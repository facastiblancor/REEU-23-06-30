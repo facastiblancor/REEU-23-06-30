{
 "cells": [
  {
   "cell_type": "markdown",
   "metadata": {},
   "source": [
    "# REEU-23-06-30 CAN BUS J1939 Data Wrangling Session\n",
    "### By Fabio A. Castiblanco, based on Dr. Yang Wang's CAN BUS Reverse Engineering and Parsing code."
   ]
  },
  {
   "cell_type": "markdown",
   "metadata": {
    "tags": []
   },
   "source": [
    "## What is a \"CAN BUS\"?\n",
    "\n",
    "A **Controller Area Network** (CAN bus) is a vehicle bus standard designed to **allow microcontrollers and devices to communicate with each other's** applications without a host computer. It is a message-based protocol, designed originally for multiplex electrical **wiring within automobiles** to save on copper, but it can also be used in many other contexts. For each device, the data in a frame is transmitted serially but in such a way that if more than one device transmits at the same time, the highest priority device can continue while the others back off. Frames are received by all devices, including by the transmitting device. (Source: Wikipedia.org)"
   ]
  },
  {
   "cell_type": "markdown",
   "metadata": {},
   "source": [
    "In a nutshell, is a communications bus for vehicle sensors and systems (aka. ECUs)"
   ]
  },
  {
   "cell_type": "markdown",
   "metadata": {
    "tags": []
   },
   "source": [
    "## Know your Data: J1939 & CAN\n",
    "\n",
    "### What is the J1939 Standard?\n",
    "\n",
    "Society of Automotive Engineers standard **SAE J1939** is the vehicle bus recommended practice used for communication and diagnostics among vehicle components. Originating in the car and heavy-duty truck industry in the United States, it is now widely used in other parts of the world. SAE J1939 is **used in the commercial vehicle area for connection and communication throughout the vehicle**, with the physical layer defined in **ISO 11898 (aka. CAN)**. A different physical layer is used between the tractor and trailer, specified in ISO 11992. (Lightly edited from Wikipedia.org)\n",
    "\n",
    "### J1939 Messages\n",
    "\n",
    "A J1939 message contains two important fields: \n",
    "\n",
    "* PGN: Parameter Group Number, also known as Message ID, contain information about sender, topic, and priority. PGNs are sent \n",
    "* SPN: Suspect Parameter Numbers contain the \"data payload\". Payloads can contain various parameters (or signals) associated to a single PGN\n",
    "\n",
    "<img src=img/j1939-msg.png width=\"683\" height=\"90\">\n",
    "\n",
    "*The structure of a J1939 Message*\n",
    "\n",
    "<img src=img/j1939-can-sample.png width=\"530\" height=\"166\">\n",
    "\n",
    "*J1939 message samples recorded from a Corn Harvester in the 2021 Harvest Season in NE. Lots of Hexadecimal numbers! (Courtesy of Stevens Farms, NE)*\n",
    "\n",
    "### J1939 Messages: Parameter Group Numbers\n",
    "\n",
    "PGNs point to vehicle signals and parameters which are defined as Parameter Groups\n",
    "\n",
    "<img src=img/j1939-pgn.png width=\"837\" height=\"99\">\n",
    "\n",
    "* A paramater group can be \"engine temperature\", which contains signals related to the temperature of several components on the engine, such as coolant temperature, fuel temperature, oil temperature, etc.\n",
    "* PGNs are numbers that can range from 0 - 65279 (0-FEFF in hexadecimal)\n",
    "* In J1939 there are **hundreds** of definitions for parameter numbers\n",
    "\n",
    "### J1939 Messages: Suspect Parameter Numbers\n",
    "\n",
    "SPNs are numbers assigned by the SAE to a specific parameter within a parameter group.\n",
    "\n",
    "<img src=img/j1939-spn.png width=\"697\" height=\"225\">\n",
    "\n",
    "* SPNs contained within a parameter group share common characteristics (**a context**)\n",
    "* Data payloads contain several SPNs"
   ]
  },
  {
   "cell_type": "markdown",
   "metadata": {},
   "source": [
    "## Machine Data Wrangling with Pandas\n",
    "Now that we know more about our dataset, let's dive in and do some wrangling! We are going to work with a small data log recorded from a John Deere 320D skid-steer machine using an ISOBlue edge-computer. Data was recorded during the CAN BUS session of the Spring 2022 session of the ASM345 (Power Units and Power Trains) course at Purdue. It contains all sorts of data from machine sensors (some unknown to people... outside OEMs). For this exercise, we are going to use **Python, Numpy, Matplotlib, and Pandas**"
   ]
  },
  {
   "cell_type": "code",
   "execution_count": 1,
   "metadata": {},
   "outputs": [],
   "source": [
    "## Data processing libraries imports\n",
    "import numpy as np\n",
    "import pandas as pd\n",
    "import matplotlib.pyplot as plt\n",
    "import matplotlib.dates as dates"
   ]
  },
  {
   "cell_type": "markdown",
   "metadata": {},
   "source": [
    "Make sure you have pytables installed before running this notebook. If you don't have it, just run *python3 -m pip install tables* in your computer's commandline.\n",
    "\n",
    "First we start declaring the dataset's metadata (file path, event, machine under test, and date). The metadata will allow us to easily locate the file in case of analyzing multiple experiments/events."
   ]
  },
  {
   "cell_type": "code",
   "execution_count": 2,
   "metadata": {},
   "outputs": [],
   "source": [
    "## Declare raw log path \n",
    "\n",
    "DATA_PATH = 'data/'\n",
    "\n",
    "## Declare event, machine, and date from log\n",
    "\n",
    "EVENT = 'asm345'\n",
    "MACHINE_ID = 'j320d'\n",
    "DATE = '04132022'\n",
    "\n",
    "## Generate filename based on experiment event, machine ID and date\n",
    "\n",
    "CSV_NAME = '-'.join([EVENT, MACHINE_ID, DATE, 'tra.csv'])"
   ]
  },
  {
   "cell_type": "markdown",
   "metadata": {},
   "source": [
    "Time to read our data from our dataset file. Use pandas to read data from our CSV file. **Hint:** The Path and the CSV name will give you the full path"
   ]
  },
  {
   "cell_type": "code",
   "execution_count": 3,
   "metadata": {},
   "outputs": [
    {
     "data": {
      "text/html": [
       "<div>\n",
       "<style scoped>\n",
       "    .dataframe tbody tr th:only-of-type {\n",
       "        vertical-align: middle;\n",
       "    }\n",
       "\n",
       "    .dataframe tbody tr th {\n",
       "        vertical-align: top;\n",
       "    }\n",
       "\n",
       "    .dataframe thead th {\n",
       "        text-align: right;\n",
       "    }\n",
       "</style>\n",
       "<table border=\"1\" class=\"dataframe\">\n",
       "  <thead>\n",
       "    <tr style=\"text-align: right;\">\n",
       "      <th></th>\n",
       "      <th>time</th>\n",
       "      <th>can_interface</th>\n",
       "      <th>can_id</th>\n",
       "      <th>can_data</th>\n",
       "    </tr>\n",
       "  </thead>\n",
       "  <tbody>\n",
       "    <tr>\n",
       "      <th>0</th>\n",
       "      <td>2022-04-13 14:06:30.397088+00</td>\n",
       "      <td>can0</td>\n",
       "      <td>0CF00300</td>\n",
       "      <td>FF0000FFFFFFFFFF</td>\n",
       "    </tr>\n",
       "    <tr>\n",
       "      <th>1</th>\n",
       "      <td>2022-04-13 14:06:30.391976+00</td>\n",
       "      <td>can0</td>\n",
       "      <td>18FEE917</td>\n",
       "      <td>FFFF0000FFFFFFFF</td>\n",
       "    </tr>\n",
       "    <tr>\n",
       "      <th>2</th>\n",
       "      <td>2022-04-13 14:06:30.391423+00</td>\n",
       "      <td>can0</td>\n",
       "      <td>18FEE817</td>\n",
       "      <td>0201200100020006</td>\n",
       "    </tr>\n",
       "    <tr>\n",
       "      <th>3</th>\n",
       "      <td>2022-04-13 14:06:30.391258+00</td>\n",
       "      <td>can0</td>\n",
       "      <td>18FFA617</td>\n",
       "      <td>FF00FF00FF0840FF</td>\n",
       "    </tr>\n",
       "    <tr>\n",
       "      <th>4</th>\n",
       "      <td>2022-04-13 14:06:30.390209+00</td>\n",
       "      <td>can0</td>\n",
       "      <td>18FFFA17</td>\n",
       "      <td>0001F0FCFFFFFFFF</td>\n",
       "    </tr>\n",
       "  </tbody>\n",
       "</table>\n",
       "</div>"
      ],
      "text/plain": [
       "                            time can_interface    can_id          can_data\n",
       "0  2022-04-13 14:06:30.397088+00          can0  0CF00300  FF0000FFFFFFFFFF\n",
       "1  2022-04-13 14:06:30.391976+00          can0  18FEE917  FFFF0000FFFFFFFF\n",
       "2  2022-04-13 14:06:30.391423+00          can0  18FEE817  0201200100020006\n",
       "3  2022-04-13 14:06:30.391258+00          can0  18FFA617  FF00FF00FF0840FF\n",
       "4  2022-04-13 14:06:30.390209+00          can0  18FFFA17  0001F0FCFFFFFFFF"
      ]
     },
     "execution_count": 3,
     "metadata": {},
     "output_type": "execute_result"
    }
   ],
   "source": [
    "can_log = pd.read_csv(DATA_PATH + CSV_NAME)\n",
    "can_log.head()"
   ]
  },
  {
   "cell_type": "markdown",
   "metadata": {},
   "source": [
    "It's always a good idea to declare the data type of each column of our data set before beginning our analysis. We do it with a Python dictionary."
   ]
  },
  {
   "cell_type": "code",
   "execution_count": 4,
   "metadata": {},
   "outputs": [],
   "source": [
    "dtypes = {\n",
    "    'time': str, \\\n",
    "    'can_interface': str, \\\n",
    "    'can_id': str, \\\n",
    "    'can_data': str}"
   ]
  },
  {
   "cell_type": "code",
   "execution_count": 5,
   "metadata": {},
   "outputs": [],
   "source": [
    "cols = list(dtypes.keys()) ## Parse our dictionary to a list containing the name of our columns"
   ]
  },
  {
   "cell_type": "code",
   "execution_count": 6,
   "metadata": {},
   "outputs": [],
   "source": [
    "datetime_col = [cols[0]] ## Select the first column as our time index"
   ]
  },
  {
   "cell_type": "code",
   "execution_count": 7,
   "metadata": {},
   "outputs": [
    {
     "data": {
      "text/plain": [
       "str"
      ]
     },
     "execution_count": 7,
     "metadata": {},
     "output_type": "execute_result"
    }
   ],
   "source": [
    "type(can_log['time'][0]) ## Check the data type of the rows in the 'time' column"
   ]
  },
  {
   "cell_type": "markdown",
   "metadata": {},
   "source": [
    "### How big is our data set?  \n",
    "\n",
    "It's always a good practice to look at the dimension of the data we are going to work on. That allows us to tell what we can and can't do (in terms of efficient computing).\n",
    "Use pandas to return the number of rows in our dataframe"
   ]
  },
  {
   "cell_type": "code",
   "execution_count": 8,
   "metadata": {},
   "outputs": [
    {
     "name": "stdout",
     "output_type": "stream",
     "text": [
      "109000\n"
     ]
    }
   ],
   "source": [
    "print(len(can_log))"
   ]
  },
  {
   "cell_type": "markdown",
   "metadata": {},
   "source": [
    "### Data clean up\n",
    "\n",
    "Data sets can have hundreds of thousands of rows, but some of them are invalid entries. It is always good to discard those invalid entries before performing any operation on the data set. Use Pandas to discard rows with invalid timestamps (entries in the 'time' column)"
   ]
  },
  {
   "cell_type": "code",
   "execution_count": 9,
   "metadata": {},
   "outputs": [],
   "source": [
    "# Discard rows when `ts` is nan\n",
    "can_log.dropna(subset=['time'], inplace=True)"
   ]
  },
  {
   "cell_type": "markdown",
   "metadata": {},
   "source": [
    "### Timestamps and time zones\n",
    "For clarity, most data collection systems and loggers use UTC (Universal Time Coordinated) timestamps. This avoids confusions due to ambiguous timezones, dayligth savings time. Though, it is hard to correlate with our clocks, which follow a timezone. We can use Pandas to change the timezone of our dataframe timestamps. Create a new column with name **ts_corr** for our corrected timestamps.\n",
    "\n",
    "**Hint:** Use Pandas *.apply()* and an embedded **lambda** function to apply the change to all the rows of the dataframe. \n",
    "\n",
    "* https://www.dataquest.io/blog/tutorial-lambda-functions-in-python/\n",
    "* https://pandas.pydata.org/pandas-docs/stable/reference/api/pandas.DataFrame.apply.html"
   ]
  },
  {
   "cell_type": "code",
   "execution_count": 10,
   "metadata": {},
   "outputs": [],
   "source": [
    "# Convert UTC timestamp to local time zone\n",
    "can_log['ts_corr'] = can_log['time'].apply(lambda x: pd.Timestamp(x, tz='UTC').tz_convert(tz='America/New_York'))"
   ]
  },
  {
   "cell_type": "markdown",
   "metadata": {},
   "source": [
    "Check again the dataframe to verify our operation above was correct."
   ]
  },
  {
   "cell_type": "code",
   "execution_count": 11,
   "metadata": {},
   "outputs": [
    {
     "data": {
      "text/html": [
       "<div>\n",
       "<style scoped>\n",
       "    .dataframe tbody tr th:only-of-type {\n",
       "        vertical-align: middle;\n",
       "    }\n",
       "\n",
       "    .dataframe tbody tr th {\n",
       "        vertical-align: top;\n",
       "    }\n",
       "\n",
       "    .dataframe thead th {\n",
       "        text-align: right;\n",
       "    }\n",
       "</style>\n",
       "<table border=\"1\" class=\"dataframe\">\n",
       "  <thead>\n",
       "    <tr style=\"text-align: right;\">\n",
       "      <th></th>\n",
       "      <th>time</th>\n",
       "      <th>can_interface</th>\n",
       "      <th>can_id</th>\n",
       "      <th>can_data</th>\n",
       "      <th>ts_corr</th>\n",
       "    </tr>\n",
       "  </thead>\n",
       "  <tbody>\n",
       "    <tr>\n",
       "      <th>0</th>\n",
       "      <td>2022-04-13 14:06:30.397088+00</td>\n",
       "      <td>can0</td>\n",
       "      <td>0CF00300</td>\n",
       "      <td>FF0000FFFFFFFFFF</td>\n",
       "      <td>2022-04-13 10:06:30.397088-04:00</td>\n",
       "    </tr>\n",
       "    <tr>\n",
       "      <th>1</th>\n",
       "      <td>2022-04-13 14:06:30.391976+00</td>\n",
       "      <td>can0</td>\n",
       "      <td>18FEE917</td>\n",
       "      <td>FFFF0000FFFFFFFF</td>\n",
       "      <td>2022-04-13 10:06:30.391976-04:00</td>\n",
       "    </tr>\n",
       "    <tr>\n",
       "      <th>2</th>\n",
       "      <td>2022-04-13 14:06:30.391423+00</td>\n",
       "      <td>can0</td>\n",
       "      <td>18FEE817</td>\n",
       "      <td>0201200100020006</td>\n",
       "      <td>2022-04-13 10:06:30.391423-04:00</td>\n",
       "    </tr>\n",
       "    <tr>\n",
       "      <th>3</th>\n",
       "      <td>2022-04-13 14:06:30.391258+00</td>\n",
       "      <td>can0</td>\n",
       "      <td>18FFA617</td>\n",
       "      <td>FF00FF00FF0840FF</td>\n",
       "      <td>2022-04-13 10:06:30.391258-04:00</td>\n",
       "    </tr>\n",
       "    <tr>\n",
       "      <th>4</th>\n",
       "      <td>2022-04-13 14:06:30.390209+00</td>\n",
       "      <td>can0</td>\n",
       "      <td>18FFFA17</td>\n",
       "      <td>0001F0FCFFFFFFFF</td>\n",
       "      <td>2022-04-13 10:06:30.390209-04:00</td>\n",
       "    </tr>\n",
       "  </tbody>\n",
       "</table>\n",
       "</div>"
      ],
      "text/plain": [
       "                            time can_interface    can_id          can_data  \\\n",
       "0  2022-04-13 14:06:30.397088+00          can0  0CF00300  FF0000FFFFFFFFFF   \n",
       "1  2022-04-13 14:06:30.391976+00          can0  18FEE917  FFFF0000FFFFFFFF   \n",
       "2  2022-04-13 14:06:30.391423+00          can0  18FEE817  0201200100020006   \n",
       "3  2022-04-13 14:06:30.391258+00          can0  18FFA617  FF00FF00FF0840FF   \n",
       "4  2022-04-13 14:06:30.390209+00          can0  18FFFA17  0001F0FCFFFFFFFF   \n",
       "\n",
       "                           ts_corr  \n",
       "0 2022-04-13 10:06:30.397088-04:00  \n",
       "1 2022-04-13 10:06:30.391976-04:00  \n",
       "2 2022-04-13 10:06:30.391423-04:00  \n",
       "3 2022-04-13 10:06:30.391258-04:00  \n",
       "4 2022-04-13 10:06:30.390209-04:00  "
      ]
     },
     "execution_count": 11,
     "metadata": {},
     "output_type": "execute_result"
    }
   ],
   "source": [
    "can_log.head()"
   ]
  },
  {
   "cell_type": "markdown",
   "metadata": {},
   "source": [
    "**Remember:** We are working with **time series data**, which means that data points are **indexed in time order**. Use Pandas to set the corrected timestamps (**ts_corr**) as the dataframe index, and discard the unnecesary columns of the data set. Also, it is a good idea to give columns more intuitive names, based on context. Use Pandas to give better names to the columns of the data set. "
   ]
  },
  {
   "cell_type": "code",
   "execution_count": 12,
   "metadata": {},
   "outputs": [],
   "source": [
    "# Assign timezone corrected timestamps as indices\n",
    "can_log = can_log.set_index('ts_corr')\n",
    "can_log = can_log.drop(columns=['time', 'can_interface'])\n",
    "idx = can_log.index\n",
    "idx.rename('ts', inplace=True)\n",
    "can_log.rename(columns={'can_data' : 'payload'}, inplace=True)"
   ]
  },
  {
   "cell_type": "markdown",
   "metadata": {},
   "source": [
    "Check again the contents of your data frame."
   ]
  },
  {
   "cell_type": "code",
   "execution_count": 13,
   "metadata": {},
   "outputs": [
    {
     "data": {
      "text/html": [
       "<div>\n",
       "<style scoped>\n",
       "    .dataframe tbody tr th:only-of-type {\n",
       "        vertical-align: middle;\n",
       "    }\n",
       "\n",
       "    .dataframe tbody tr th {\n",
       "        vertical-align: top;\n",
       "    }\n",
       "\n",
       "    .dataframe thead th {\n",
       "        text-align: right;\n",
       "    }\n",
       "</style>\n",
       "<table border=\"1\" class=\"dataframe\">\n",
       "  <thead>\n",
       "    <tr style=\"text-align: right;\">\n",
       "      <th></th>\n",
       "      <th>can_id</th>\n",
       "      <th>payload</th>\n",
       "    </tr>\n",
       "    <tr>\n",
       "      <th>ts</th>\n",
       "      <th></th>\n",
       "      <th></th>\n",
       "    </tr>\n",
       "  </thead>\n",
       "  <tbody>\n",
       "    <tr>\n",
       "      <th>2022-04-13 10:06:30.397088-04:00</th>\n",
       "      <td>0CF00300</td>\n",
       "      <td>FF0000FFFFFFFFFF</td>\n",
       "    </tr>\n",
       "    <tr>\n",
       "      <th>2022-04-13 10:06:30.391976-04:00</th>\n",
       "      <td>18FEE917</td>\n",
       "      <td>FFFF0000FFFFFFFF</td>\n",
       "    </tr>\n",
       "    <tr>\n",
       "      <th>2022-04-13 10:06:30.391423-04:00</th>\n",
       "      <td>18FEE817</td>\n",
       "      <td>0201200100020006</td>\n",
       "    </tr>\n",
       "    <tr>\n",
       "      <th>2022-04-13 10:06:30.391258-04:00</th>\n",
       "      <td>18FFA617</td>\n",
       "      <td>FF00FF00FF0840FF</td>\n",
       "    </tr>\n",
       "    <tr>\n",
       "      <th>2022-04-13 10:06:30.390209-04:00</th>\n",
       "      <td>18FFFA17</td>\n",
       "      <td>0001F0FCFFFFFFFF</td>\n",
       "    </tr>\n",
       "  </tbody>\n",
       "</table>\n",
       "</div>"
      ],
      "text/plain": [
       "                                    can_id           payload\n",
       "ts                                                          \n",
       "2022-04-13 10:06:30.397088-04:00  0CF00300  FF0000FFFFFFFFFF\n",
       "2022-04-13 10:06:30.391976-04:00  18FEE917  FFFF0000FFFFFFFF\n",
       "2022-04-13 10:06:30.391423-04:00  18FEE817  0201200100020006\n",
       "2022-04-13 10:06:30.391258-04:00  18FFA617  FF00FF00FF0840FF\n",
       "2022-04-13 10:06:30.390209-04:00  18FFFA17  0001F0FCFFFFFFFF"
      ]
     },
     "execution_count": 13,
     "metadata": {},
     "output_type": "execute_result"
    }
   ],
   "source": [
    "can_log.head()"
   ]
  },
  {
   "cell_type": "markdown",
   "metadata": {},
   "source": [
    "Now that we have a cleaner dataframe, it is time to start working on our data. Below you will find a helper function: **parse_canid(can_id)**. This function will extract the PGNs (Parameter Group Number), SA (Source Address), DA (Destination Address), and PRIO (Priority) of the recorded messages in our log from the **can_id** column. It takes a 4-byte **hexadecimal** number as input and returns 4 elements, each one a **decimal** number representing the PGN, SA, DA, and PRIO embedded in the CAN ID. \n",
    "\n",
    "**Some useful readings:**\n",
    "* https://en.wikipedia.org/wiki/Hexadecimal\n",
    "* https://en.wikipedia.org/wiki/Byte\n"
   ]
  },
  {
   "cell_type": "code",
   "execution_count": 17,
   "metadata": {},
   "outputs": [],
   "source": [
    "# ISOBUS message masks\n",
    "MASK_2_BIT = ((1 << 2) - 1)\n",
    "MASK_3_BIT = ((1 << 3) - 1)\n",
    "MASK_8_BIT = ((1 << 8) - 1)\n",
    "\n",
    "def parse_canid(can_id):\n",
    "    # J1939 header info:\n",
    "    # http://www.ni.com/example/31215/en/\n",
    "    # http://tucrrc.utulsa.edu/J1939_files/HeaderStructure.jpg\n",
    "    if can_id is None:\n",
    "        return [-1] * 4\n",
    "    \n",
    "    header = int(can_id, 16)\n",
    "\n",
    "    sa = header & MASK_8_BIT\n",
    "    header >>= 8\n",
    "    pdu_ps = header & MASK_8_BIT\n",
    "    header >>= 8\n",
    "    pdu_pf = header & MASK_8_BIT\n",
    "    header >>= 8\n",
    "    res_dp = header & MASK_2_BIT\n",
    "    header >>= 2\n",
    "    priority = header & MASK_3_BIT\n",
    "\n",
    "    pgn = res_dp\n",
    "    pgn <<= 8\n",
    "    pgn |= pdu_pf\n",
    "    pgn <<= 8\n",
    "    if pdu_pf >= 240:\n",
    "        # pdu format 2 - broadcast message. PDU PS is an extension of\n",
    "        # the identifier\n",
    "        pgn |= pdu_ps\n",
    "        da = 255\n",
    "    else:\n",
    "        da = pdu_ps\n",
    "        \n",
    "    return [pgn, sa, da, priority]"
   ]
  },
  {
   "cell_type": "markdown",
   "metadata": {},
   "source": [
    "Add **four** new columns with names **pgn**, **sa**, **da**, **pri** to the dataframe and check the dataframe "
   ]
  },
  {
   "cell_type": "code",
   "execution_count": 15,
   "metadata": {},
   "outputs": [
    {
     "data": {
      "text/html": [
       "<div>\n",
       "<style scoped>\n",
       "    .dataframe tbody tr th:only-of-type {\n",
       "        vertical-align: middle;\n",
       "    }\n",
       "\n",
       "    .dataframe tbody tr th {\n",
       "        vertical-align: top;\n",
       "    }\n",
       "\n",
       "    .dataframe thead th {\n",
       "        text-align: right;\n",
       "    }\n",
       "</style>\n",
       "<table border=\"1\" class=\"dataframe\">\n",
       "  <thead>\n",
       "    <tr style=\"text-align: right;\">\n",
       "      <th></th>\n",
       "      <th>can_id</th>\n",
       "      <th>payload</th>\n",
       "      <th>pgn</th>\n",
       "      <th>sa</th>\n",
       "      <th>da</th>\n",
       "      <th>pri</th>\n",
       "    </tr>\n",
       "    <tr>\n",
       "      <th>ts</th>\n",
       "      <th></th>\n",
       "      <th></th>\n",
       "      <th></th>\n",
       "      <th></th>\n",
       "      <th></th>\n",
       "      <th></th>\n",
       "    </tr>\n",
       "  </thead>\n",
       "  <tbody>\n",
       "    <tr>\n",
       "      <th>2022-04-13 10:06:30.397088-04:00</th>\n",
       "      <td>0CF00300</td>\n",
       "      <td>FF0000FFFFFFFFFF</td>\n",
       "      <td>NaN</td>\n",
       "      <td>NaN</td>\n",
       "      <td>NaN</td>\n",
       "      <td>NaN</td>\n",
       "    </tr>\n",
       "    <tr>\n",
       "      <th>2022-04-13 10:06:30.391976-04:00</th>\n",
       "      <td>18FEE917</td>\n",
       "      <td>FFFF0000FFFFFFFF</td>\n",
       "      <td>NaN</td>\n",
       "      <td>NaN</td>\n",
       "      <td>NaN</td>\n",
       "      <td>NaN</td>\n",
       "    </tr>\n",
       "    <tr>\n",
       "      <th>2022-04-13 10:06:30.391423-04:00</th>\n",
       "      <td>18FEE817</td>\n",
       "      <td>0201200100020006</td>\n",
       "      <td>NaN</td>\n",
       "      <td>NaN</td>\n",
       "      <td>NaN</td>\n",
       "      <td>NaN</td>\n",
       "    </tr>\n",
       "    <tr>\n",
       "      <th>2022-04-13 10:06:30.391258-04:00</th>\n",
       "      <td>18FFA617</td>\n",
       "      <td>FF00FF00FF0840FF</td>\n",
       "      <td>NaN</td>\n",
       "      <td>NaN</td>\n",
       "      <td>NaN</td>\n",
       "      <td>NaN</td>\n",
       "    </tr>\n",
       "    <tr>\n",
       "      <th>2022-04-13 10:06:30.390209-04:00</th>\n",
       "      <td>18FFFA17</td>\n",
       "      <td>0001F0FCFFFFFFFF</td>\n",
       "      <td>NaN</td>\n",
       "      <td>NaN</td>\n",
       "      <td>NaN</td>\n",
       "      <td>NaN</td>\n",
       "    </tr>\n",
       "  </tbody>\n",
       "</table>\n",
       "</div>"
      ],
      "text/plain": [
       "                                    can_id           payload  pgn  sa  da  pri\n",
       "ts                                                                            \n",
       "2022-04-13 10:06:30.397088-04:00  0CF00300  FF0000FFFFFFFFFF  NaN NaN NaN  NaN\n",
       "2022-04-13 10:06:30.391976-04:00  18FEE917  FFFF0000FFFFFFFF  NaN NaN NaN  NaN\n",
       "2022-04-13 10:06:30.391423-04:00  18FEE817  0201200100020006  NaN NaN NaN  NaN\n",
       "2022-04-13 10:06:30.391258-04:00  18FFA617  FF00FF00FF0840FF  NaN NaN NaN  NaN\n",
       "2022-04-13 10:06:30.390209-04:00  18FFFA17  0001F0FCFFFFFFFF  NaN NaN NaN  NaN"
      ]
     },
     "execution_count": 15,
     "metadata": {},
     "output_type": "execute_result"
    }
   ],
   "source": [
    "can_log[['pgn', 'sa', 'da', 'pri']] = pd.DataFrame([[np.nan, np.nan, np.nan, np.nan]], index=can_log.index)\n",
    "can_log.head()"
   ]
  },
  {
   "cell_type": "markdown",
   "metadata": {},
   "source": [
    "Now let's fil the newly created columns with parsed data from the **can_id** column. Use the **parse_canid()** function to parse each individual id and assign the results to each column. \n",
    "\n",
    "**Hint:** You can make a partition from the dataframe, selecting the columns with empty values and then assign the result of **parse_canid()** to each row. Remember, this function returns a list of **4** elements. "
   ]
  },
  {
   "cell_type": "code",
   "execution_count": 18,
   "metadata": {},
   "outputs": [],
   "source": [
    "can_log.loc[:, ['pgn', 'sa', 'da', 'pri']] = \\\n",
    "    np.reshape(list(can_log['can_id'].apply(lambda x: parse_canid(x)).values), (len(can_log),4))"
   ]
  },
  {
   "cell_type": "markdown",
   "metadata": {},
   "source": [
    "Check the dataframe after parsing the CAN IDs"
   ]
  },
  {
   "cell_type": "code",
   "execution_count": 22,
   "metadata": {},
   "outputs": [
    {
     "data": {
      "text/html": [
       "<div>\n",
       "<style scoped>\n",
       "    .dataframe tbody tr th:only-of-type {\n",
       "        vertical-align: middle;\n",
       "    }\n",
       "\n",
       "    .dataframe tbody tr th {\n",
       "        vertical-align: top;\n",
       "    }\n",
       "\n",
       "    .dataframe thead th {\n",
       "        text-align: right;\n",
       "    }\n",
       "</style>\n",
       "<table border=\"1\" class=\"dataframe\">\n",
       "  <thead>\n",
       "    <tr style=\"text-align: right;\">\n",
       "      <th></th>\n",
       "      <th>can_id</th>\n",
       "      <th>payload</th>\n",
       "      <th>pgn</th>\n",
       "      <th>sa</th>\n",
       "      <th>da</th>\n",
       "      <th>pri</th>\n",
       "    </tr>\n",
       "    <tr>\n",
       "      <th>ts</th>\n",
       "      <th></th>\n",
       "      <th></th>\n",
       "      <th></th>\n",
       "      <th></th>\n",
       "      <th></th>\n",
       "      <th></th>\n",
       "    </tr>\n",
       "  </thead>\n",
       "  <tbody>\n",
       "    <tr>\n",
       "      <th>2022-04-13 10:06:30.397088-04:00</th>\n",
       "      <td>0CF00300</td>\n",
       "      <td>FF0000FFFFFFFFFF</td>\n",
       "      <td>61443</td>\n",
       "      <td>0</td>\n",
       "      <td>255</td>\n",
       "      <td>3</td>\n",
       "    </tr>\n",
       "    <tr>\n",
       "      <th>2022-04-13 10:06:30.391976-04:00</th>\n",
       "      <td>18FEE917</td>\n",
       "      <td>FFFF0000FFFFFFFF</td>\n",
       "      <td>65257</td>\n",
       "      <td>23</td>\n",
       "      <td>255</td>\n",
       "      <td>6</td>\n",
       "    </tr>\n",
       "    <tr>\n",
       "      <th>2022-04-13 10:06:30.391423-04:00</th>\n",
       "      <td>18FEE817</td>\n",
       "      <td>0201200100020006</td>\n",
       "      <td>65256</td>\n",
       "      <td>23</td>\n",
       "      <td>255</td>\n",
       "      <td>6</td>\n",
       "    </tr>\n",
       "    <tr>\n",
       "      <th>2022-04-13 10:06:30.391258-04:00</th>\n",
       "      <td>18FFA617</td>\n",
       "      <td>FF00FF00FF0840FF</td>\n",
       "      <td>65446</td>\n",
       "      <td>23</td>\n",
       "      <td>255</td>\n",
       "      <td>6</td>\n",
       "    </tr>\n",
       "    <tr>\n",
       "      <th>2022-04-13 10:06:30.390209-04:00</th>\n",
       "      <td>18FFFA17</td>\n",
       "      <td>0001F0FCFFFFFFFF</td>\n",
       "      <td>65530</td>\n",
       "      <td>23</td>\n",
       "      <td>255</td>\n",
       "      <td>6</td>\n",
       "    </tr>\n",
       "  </tbody>\n",
       "</table>\n",
       "</div>"
      ],
      "text/plain": [
       "                                    can_id           payload    pgn  sa   da  \\\n",
       "ts                                                                             \n",
       "2022-04-13 10:06:30.397088-04:00  0CF00300  FF0000FFFFFFFFFF  61443   0  255   \n",
       "2022-04-13 10:06:30.391976-04:00  18FEE917  FFFF0000FFFFFFFF  65257  23  255   \n",
       "2022-04-13 10:06:30.391423-04:00  18FEE817  0201200100020006  65256  23  255   \n",
       "2022-04-13 10:06:30.391258-04:00  18FFA617  FF00FF00FF0840FF  65446  23  255   \n",
       "2022-04-13 10:06:30.390209-04:00  18FFFA17  0001F0FCFFFFFFFF  65530  23  255   \n",
       "\n",
       "                                  pri  \n",
       "ts                                     \n",
       "2022-04-13 10:06:30.397088-04:00    3  \n",
       "2022-04-13 10:06:30.391976-04:00    6  \n",
       "2022-04-13 10:06:30.391423-04:00    6  \n",
       "2022-04-13 10:06:30.391258-04:00    6  \n",
       "2022-04-13 10:06:30.390209-04:00    6  "
      ]
     },
     "execution_count": 22,
     "metadata": {},
     "output_type": "execute_result"
    }
   ],
   "source": [
    "can_log.head()"
   ]
  },
  {
   "cell_type": "markdown",
   "metadata": {},
   "source": [
    "### Filtering data by PGN\n",
    "\n",
    "There are hundreds of PGNs in our log, some are well documented and available to the public as part of the J1939 standard, and others hold proprietary information that only OEMs know how to decode. For this exercise, we will focus on three PGNs: **61444**, **65266**, and **65128**, corresponding to the Electronic Engine Controller #1, Engine Fuel Rate, and Hydraulic Temp. Controller respectively. Below you will find a dictionary that contains the definition of each PGN, each one containing another dictionary (this is called a **nested dictionary**), where the **bytes** key specifies the portion of the payload that contains the payload of interest, **offset** includes a linear offset to the obtained value, **resolution** is a scaling constant for each signal, **name** and **unit** correspond to the name and units of the obtained signal. \n",
    "\n",
    "Use this dictionary to decode the data from the signals contained in each message payload.\n",
    "\n",
    "**Looking for a challenge? (OPTIONAL CHALLENGE!)**\n",
    "Too few signals? You can add your own signal definitions! Look on the internet and add more signal definitions to the **pgns** dictionary. Be careful, not all signals are present on our data set. Some signals correspond to systems and sensors not present in the machine under test (skid-steer)."
   ]
  },
  {
   "cell_type": "code",
   "execution_count": 21,
   "metadata": {},
   "outputs": [],
   "source": [
    "pgns = {\n",
    "    61444: {'bytes': list(range(32,40)) + list(range(24,32)), 'offset': 0, 'resolution': 0.125, 'name': 'Engine RPM', 'unit': 'RPM'},\n",
    "    65266: {'bytes': list(range(8,16)) + list(range(0,8)), 'offset': 0, 'resolution': 0.05, 'name': 'Fuel Rate', 'unit': 'L/h'},\n",
    "    65128: {'bytes': range(0,8), 'offset': -40.0, 'resolution': 1.0, 'name': 'Hydraulic Temp', 'unit': 'degree C'}}"
   ]
  },
  {
   "cell_type": "markdown",
   "metadata": {},
   "source": [
    "Below we have two helper functions: **hex2bin()** which converts a hexadecimal number in *string form* to a binary number in *string form*; and **map2col()** maps values from a binary number in *string form* to a column for each binary digit (e.g., 01010 will be mapped to five columns, each one containing a digit of the number 01010). "
   ]
  },
  {
   "cell_type": "code",
   "execution_count": 35,
   "metadata": {},
   "outputs": [],
   "source": [
    "def hex2bin(hex_str):\n",
    "    scale = 16 # equals to hexadecimal\n",
    "    num_of_bits = 64\n",
    "    return str(bin(int(hex_str, scale))[2:].zfill(num_of_bits))\n",
    "\n",
    "def map2col(n, payload_bin_str):\n",
    "    bin_vals = list(payload_bin_str)\n",
    "    return bin_vals[n]"
   ]
  },
  {
   "cell_type": "markdown",
   "metadata": {},
   "source": [
    "Now it's time to decode the signals. Use the **pgns** dictionary and the two helper functions above to decode the signal from the PGN. We will do it in a few steps:\n",
    "\n",
    "1. **for** each PGN, convert the payload from hexadecimal to a binary. Then map each digit to an individual column into an auxiliary dataframe (avoid adding the new columns to the dataframe of our data set.\n",
    "2. After mapping, use the bytes key of the PGN definitions dictionary to extract the desired signal from the payload. Then convert the result to a decimal number number and use the formula below to properly scale the signal:\n",
    "\n",
    "$$ y_{sig}(x) = x*resolution + offset $$ \n",
    "\n",
    "Where $x$ is the decimal number obtained after filtering and converting the payload, $resolution$ and $offset$ can be extracted from the PGNs definition dictionary.\n",
    "\n",
    "3. **Apply** the formula for each PGN. Then save to a new dataframe, and plot the results using **matplotlib**. Give some cool styles to your plots!\n",
    "\n",
    "**Hints:** \n",
    "* Calling the helper functions as **lambda** functions and using them inside an **apply()** function over a dataframe will help you **a lot** \n",
    "* You can convert from a binary number in *string form* to a decimal number using the **int(n, 2)** function, where **n** is a binary number in *string form*, and 2 represents the base of the number system (2 for binary)"
   ]
  },
  {
   "cell_type": "code",
   "execution_count": 36,
   "metadata": {},
   "outputs": [
    {
     "name": "stdout",
     "output_type": "stream",
     "text": [
      "Working on PGN 61444\n",
      "Mapping ...\n",
      "Done\n",
      "                                 0  1  2  3  4  5  6  7  8  9   ... 54 55 56  \\\n",
      "ts                                                              ...            \n",
      "2022-04-13 10:06:30.387178-04:00  1  1  1  1  0  0  0  0  1  1  ...  0  0  1   \n",
      "2022-04-13 10:06:30.367121-04:00  1  1  1  1  0  0  0  0  1  1  ...  0  0  1   \n",
      "2022-04-13 10:06:30.367121-04:00  1  1  1  1  0  0  0  0  1  1  ...  0  0  1   \n",
      "2022-04-13 10:06:30.327135-04:00  1  1  1  1  0  0  0  0  1  1  ...  0  0  1   \n",
      "2022-04-13 10:06:30.307158-04:00  1  1  1  1  0  0  0  0  1  1  ...  0  0  1   \n",
      "...                              .. .. .. .. .. .. .. .. .. ..  ... .. .. ..   \n",
      "2022-04-13 10:01:25.676874-04:00  1  1  1  1  0  0  0  0  1  1  ...  0  0  1   \n",
      "2022-04-13 10:01:25.656914-04:00  1  1  1  1  0  0  0  0  1  1  ...  0  0  1   \n",
      "2022-04-13 10:01:25.637412-04:00  1  1  1  1  0  0  0  0  1  1  ...  0  0  1   \n",
      "2022-04-13 10:01:25.616880-04:00  1  1  1  1  0  0  0  0  1  1  ...  0  0  1   \n",
      "2022-04-13 10:01:25.596826-04:00  1  1  1  1  0  0  0  0  1  1  ...  0  0  1   \n",
      "\n",
      "                                 57 58 59 60 61 62 63  \n",
      "ts                                                     \n",
      "2022-04-13 10:06:30.387178-04:00  1  1  1  1  1  1  1  \n",
      "2022-04-13 10:06:30.367121-04:00  1  1  1  1  1  1  1  \n",
      "2022-04-13 10:06:30.367121-04:00  1  1  1  1  1  1  1  \n",
      "2022-04-13 10:06:30.327135-04:00  1  1  1  1  1  1  1  \n",
      "2022-04-13 10:06:30.307158-04:00  1  1  1  1  1  1  1  \n",
      "...                              .. .. .. .. .. .. ..  \n",
      "2022-04-13 10:01:25.676874-04:00  1  1  1  1  1  1  1  \n",
      "2022-04-13 10:01:25.656914-04:00  1  1  1  1  1  1  1  \n",
      "2022-04-13 10:01:25.637412-04:00  1  1  1  1  1  1  1  \n",
      "2022-04-13 10:01:25.616880-04:00  1  1  1  1  1  1  1  \n",
      "2022-04-13 10:01:25.596826-04:00  1  1  1  1  1  1  1  \n",
      "\n",
      "[15240 rows x 64 columns]\n",
      "Working on PGN 65266\n",
      "Mapping ...\n",
      "Done\n",
      "                                 0  1  2  3  4  5  6  7  8  9   ... 54 55 56  \\\n",
      "ts                                                              ...            \n",
      "2022-04-13 10:06:30.317109-04:00  0  0  0  0  0  0  0  0  0  0  ...  1  1  1   \n",
      "2022-04-13 10:06:30.317109-04:00  0  0  0  0  0  0  0  0  0  0  ...  1  1  1   \n",
      "2022-04-13 10:06:30.217104-04:00  0  0  0  0  0  0  0  0  0  0  ...  1  1  1   \n",
      "2022-04-13 10:06:30.117115-04:00  0  0  0  0  0  0  0  0  0  0  ...  1  1  1   \n",
      "2022-04-13 10:06:30.117115-04:00  0  0  0  0  0  0  0  0  0  0  ...  1  1  1   \n",
      "...                              .. .. .. .. .. .. .. .. .. ..  ... .. .. ..   \n",
      "2022-04-13 10:01:25.907146-04:00  0  0  0  0  0  0  0  0  0  0  ...  1  1  1   \n",
      "2022-04-13 10:01:25.806878-04:00  0  0  0  0  0  0  0  0  0  0  ...  1  1  1   \n",
      "2022-04-13 10:01:25.706850-04:00  0  0  0  0  0  0  0  0  0  0  ...  1  1  1   \n",
      "2022-04-13 10:01:25.606725-04:00  0  0  0  0  0  0  0  0  0  0  ...  1  1  1   \n",
      "2022-04-13 10:01:25.606725-04:00  0  0  0  0  0  0  0  0  0  0  ...  1  1  1   \n",
      "\n",
      "                                 57 58 59 60 61 62 63  \n",
      "ts                                                     \n",
      "2022-04-13 10:06:30.317109-04:00  1  1  1  1  1  1  1  \n",
      "2022-04-13 10:06:30.317109-04:00  1  1  1  1  1  1  1  \n",
      "2022-04-13 10:06:30.217104-04:00  1  1  1  1  1  1  1  \n",
      "2022-04-13 10:06:30.117115-04:00  1  1  1  1  1  1  1  \n",
      "2022-04-13 10:06:30.117115-04:00  1  1  1  1  1  1  1  \n",
      "...                              .. .. .. .. .. .. ..  \n",
      "2022-04-13 10:01:25.907146-04:00  1  1  1  1  1  1  1  \n",
      "2022-04-13 10:01:25.806878-04:00  1  1  1  1  1  1  1  \n",
      "2022-04-13 10:01:25.706850-04:00  1  1  1  1  1  1  1  \n",
      "2022-04-13 10:01:25.606725-04:00  1  1  1  1  1  1  1  \n",
      "2022-04-13 10:01:25.606725-04:00  1  1  1  1  1  1  1  \n",
      "\n",
      "[3459 rows x 64 columns]\n",
      "Working on PGN 65128\n",
      "Mapping ...\n",
      "Done\n",
      "                                 0  1  2  3  4  5  6  7  8  9   ... 54 55 56  \\\n",
      "ts                                                              ...            \n",
      "2022-04-13 10:06:29.598238-04:00  0  1  0  1  0  0  0  1  1  1  ...  1  1  1   \n",
      "2022-04-13 10:06:28.598197-04:00  0  1  0  1  0  0  0  1  1  1  ...  1  1  1   \n",
      "2022-04-13 10:06:26.598060-04:00  0  1  0  1  0  0  0  1  1  1  ...  1  1  1   \n",
      "2022-04-13 10:06:25.598127-04:00  0  1  0  1  0  0  0  1  1  1  ...  1  1  1   \n",
      "2022-04-13 10:06:24.598027-04:00  0  1  0  1  0  0  0  1  1  1  ...  1  1  1   \n",
      "...                              .. .. .. .. .. .. .. .. .. ..  ... .. .. ..   \n",
      "2022-04-13 10:01:30.588388-04:00  0  0  1  1  1  1  1  1  1  1  ...  1  1  1   \n",
      "2022-04-13 10:01:30.588388-04:00  0  0  1  1  1  1  1  1  1  1  ...  1  1  1   \n",
      "2022-04-13 10:01:29.588400-04:00  0  0  1  1  1  1  1  1  1  1  ...  1  1  1   \n",
      "2022-04-13 10:01:28.588466-04:00  0  0  1  1  1  1  1  1  1  1  ...  1  1  1   \n",
      "2022-04-13 10:01:27.588349-04:00  0  0  1  1  1  1  1  1  1  1  ...  1  1  1   \n",
      "\n",
      "                                 57 58 59 60 61 62 63  \n",
      "ts                                                     \n",
      "2022-04-13 10:06:29.598238-04:00  1  1  1  1  1  1  1  \n",
      "2022-04-13 10:06:28.598197-04:00  1  1  1  1  1  1  1  \n",
      "2022-04-13 10:06:26.598060-04:00  1  1  1  1  1  1  1  \n",
      "2022-04-13 10:06:25.598127-04:00  1  1  1  1  1  1  1  \n",
      "2022-04-13 10:06:24.598027-04:00  1  1  1  1  1  1  1  \n",
      "...                              .. .. .. .. .. .. ..  \n",
      "2022-04-13 10:01:30.588388-04:00  1  1  1  1  1  1  1  \n",
      "2022-04-13 10:01:30.588388-04:00  1  1  1  1  1  1  1  \n",
      "2022-04-13 10:01:29.588400-04:00  1  1  1  1  1  1  1  \n",
      "2022-04-13 10:01:28.588466-04:00  1  1  1  1  1  1  1  \n",
      "2022-04-13 10:01:27.588349-04:00  1  1  1  1  1  1  1  \n",
      "\n",
      "[281 rows x 64 columns]\n"
     ]
    },
    {
     "data": {
      "image/png": "[encoded data removed]",
      "text/plain": [
       "<Figure size 1000x300 with 1 Axes>"
      ]
     },
     "metadata": {},
     "output_type": "display_data"
    },
    {
     "data": {
      "image/png": "[encoded data removed]",
      "text/plain": [
       "<Figure size 1000x300 with 1 Axes>"
      ]
     },
     "metadata": {},
     "output_type": "display_data"
    },
    {
     "data": {
      "image/png": "[encoded data removed]",
      "text/plain": [
       "<Figure size 1000x300 with 1 Axes>"
      ]
     },
     "metadata": {},
     "output_type": "display_data"
    }
   ],
   "source": [
    "## Iterate over the PGN definitions dictionary (pgn). \"d\" is the nested dictionary\n",
    "## containing the bytes range of each signal, the data offset, resultion, name and \n",
    "## units of its corresponding signal.\n",
    "\n",
    "for pgn, d in pgns.items():\n",
    "    \n",
    "    ## Print the PGN we are working on\n",
    "    print('Working on PGN {}'.format(pgn))\n",
    "    ## Extract the data of the PGN we are interested\n",
    "    log_f = can_log[can_log['pgn'] == pgn]\n",
    "    \n",
    "    ## Convert payloads in hex to binary digits\n",
    "    bins = log_f['payload'].apply(lambda x: hex2bin(x))\n",
    "    \n",
    "    ## Create an auxiliary dataframe\n",
    "    bins_col = pd.DataFrame()\n",
    "    print('Mapping ...')\n",
    "    \n",
    "    ## Map binary digits to a column into an auxiliary dataframe\n",
    "    for n in range(64):\n",
    "        bins_col[n] = bins.apply(lambda x: map2col(n, x))\n",
    "    print('Done')\n",
    "    \n",
    "    ## Print the table with the digits mapped to columns to verify \n",
    "    ## correctness in our operation\n",
    "    print(bins_col)\n",
    "    \n",
    "    ## Parse digits in string form to integer numbers \n",
    "    bins_col = bins_col.astype(int)\n",
    "    \n",
    "    ## Parse PGN by selecting the bytes of the signal, and then merging the signals\n",
    "    s_dec = bins_col[d['bytes']].astype(str).apply(lambda x: int((''.join(x)), 2) * d['resolution'] + d['offset'], axis=1)\n",
    "    \n",
    "    ## Plot the resulting data as a time series plot\n",
    "    fig, ax = plt.subplots(figsize=(10,3))\n",
    "    ax.plot(s_dec.index, s_dec.values)\n",
    "    fig.autofmt_xdate()\n",
    "    ax.xaxis.set_major_formatter(dates.DateFormatter(\"%H:%M:%S\"))\n",
    "    ax.set_xlabel('Local Time')\n",
    "    ax.set_ylabel('{} ({})'.format(d['name'], d['unit']))\n"
   ]
  },
  {
   "cell_type": "markdown",
   "metadata": {},
   "source": [
    "That's all folks! I hope you had fun doing some data wrangling with data from real sensors. If you have any questions, or found any oversight in this workshop, please send me an email (fcastibl@purdue.edu) and I can help you with any questions. Also, corrections are always greatly appreciated!"
   ]
  },
  {
   "cell_type": "code",
   "execution_count": null,
   "metadata": {},
   "outputs": [],
   "source": []
  }
 ],
 "metadata": {
  "kernelspec": {
   "display_name": "Python 3 (ipykernel)",
   "language": "python",
   "name": "python3"
  },
  "language_info": {
   "codemirror_mode": {
    "name": "ipython",
    "version": 3
   },
   "file_extension": ".py",
   "mimetype": "text/x-python",
   "name": "python",
   "nbconvert_exporter": "python",
   "pygments_lexer": "ipython3",
   "version": "3.10.6"
  }
 },
 "nbformat": 4,
 "nbformat_minor": 4
}
